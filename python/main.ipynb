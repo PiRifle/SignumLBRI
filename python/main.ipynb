{
 "cells": [
  {
   "cell_type": "code",
   "execution_count": null,
   "metadata": {},
   "outputs": [],
   "source": [
    "rows = []\n",
    "in_data = {}\n",
    "import json\n",
    "with open(\"export.txt\", \"r\") as f:\n",
    "    rows = f.readlines()\n",
    "with open(\"in.json\", \"r\") as f:\n",
    "    in_data['language'] = json.load(f)\n",
    "    \n",
    "\n",
    "rows = list(map(lambda x: x.strip(), rows))\n",
    "    \n",
    "rows, in_data"
   ]
  },
  {
   "cell_type": "code",
   "execution_count": null,
   "metadata": {},
   "outputs": [],
   "source": [
    "paths = []\n",
    "import re\n",
    "pattern = r'language\\.[^\\s)\"\\',{}]+'\n",
    "matches = re.findall(pattern, \" \".join(rows))\n",
    "for match in matches:\n",
    "    paths.append(match)\n"
   ]
  },
  {
   "cell_type": "code",
   "execution_count": null,
   "metadata": {},
   "outputs": [],
   "source": [
    "\n",
    "from pprint import pprint\n",
    "from copy import deepcopy\n",
    "\n",
    "def create_obj(parameters:list[str], root: dict[str, dict[str,str] | str] = {}):\n",
    "    def define_tree(nodes: list[str], branch_root:dict[str, dict[str, str] | str] = {}):\n",
    "        try:\n",
    "            param = nodes.pop(0)\n",
    "            if not len(nodes):\n",
    "                branch_root[param] = \"\"\n",
    "                return branch_root\n",
    "            if not branch_root.get(param):\n",
    "                branch_root[param] = {}\n",
    "            define_tree(nodes, branch_root[param])\n",
    "        except: \n",
    "            print(\"error\", nodes, param, branch_root)\n",
    "        return branch_root\n",
    "        \n",
    "    for nodes in parameters:\n",
    "        define_tree(nodes.split('.'), root)\n",
    "        \n",
    "    \n",
    "p = deepcopy(paths)\n",
    "a = in_data\n",
    "create_obj(p,a)\n",
    "pprint(a)\n"
   ]
  },
  {
   "cell_type": "code",
   "execution_count": null,
   "metadata": {},
   "outputs": [],
   "source": [
    "import json \n",
    "\n",
    "with open(\"out.json\", \"w\") as f:\n",
    "    json.dump(a, f, ensure_ascii=False)"
   ]
  }
 ],
 "metadata": {
  "kernelspec": {
   "display_name": "base",
   "language": "python",
   "name": "python3"
  },
  "language_info": {
   "codemirror_mode": {
    "name": "ipython",
    "version": 3
   },
   "file_extension": ".py",
   "mimetype": "text/x-python",
   "name": "python",
   "nbconvert_exporter": "python",
   "pygments_lexer": "ipython3",
   "version": "3.11.4"
  },
  "orig_nbformat": 4
 },
 "nbformat": 4,
 "nbformat_minor": 2
}
